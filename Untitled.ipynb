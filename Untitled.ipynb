{
 "cells": [
  {
   "cell_type": "code",
   "execution_count": null,
   "id": "0e729fa6",
   "metadata": {},
   "outputs": [],
   "source": [
    "#School data\n",
    "#Objectives:\n",
    "#1. District Summary\n",
    "#    Total Schools\n",
    "#    Total Students\n",
    "#    Total Budget\n",
    "#    Average Math Score\n",
    "#    Average Reading Score\n",
    "#    % Passing Math (The percentage of students that passed math.)\n",
    "#    % Passing Reading (The percentage of students that passed reading.)\n",
    "#    % Overall Passing (The percentage of students that passed math and reading.)\n",
    "#2. School Summary\n",
    "#    School Name\n",
    "#    School Type\n",
    "#    Total Students\n",
    "#    Total School Budget\n",
    "#    Per Student Budget\n",
    "#    Average Math Score\n",
    "#    Average Reading Score\n",
    "#    % Passing Math (The percentage of students that passed math.)\n",
    "#    % Passing Reading (The percentage of students that passed reading.)\n",
    "#    % Overall Passing (The percentage of students that passed math and reading.)\n",
    "#3 Top 5 Performing Schools (By % Overall Passing)\n",
    "#     School Name\n",
    "#     School Type\n",
    "#     Total Students\n",
    "#     Total School Budget\n",
    "#     Per Student Budget\n",
    "#     Average Math Score\n",
    "#     Average Reading Score\n",
    "#     % Passing Math (The percentage of students that passed math.)\n",
    "#     % Passing Reading (The percentage of students that passed reading.)\n",
    "#     % Overall Passing (The percentage of students that passed math and reading.)\n",
    "#4 Bottom 5 Performing Schools (By % Overall Passing)\n",
    "#     Same metrics\n",
    "#5 Math Scores by Grade**\n",
    "#     Create a table that lists the average Math Score for students of each grade level (9th, 10th, 11th, 12th) at each school.\n",
    "#6 Reading Scores by Grade\n",
    "#     Create a table that lists the average Reading Score for students of each grade level (9th, 10th, 11th, 12th) at each school.\n",
    "#7 Scores by School Spending\n",
    "#     Create a table that breaks down school performances based on average Spending Ranges (Per Student). \n",
    "#     Use 4 reasonable bins to group school spending. Include in the table each of the following:\n",
    "#         Average Math Score\n",
    "#         Average Reading Score\n",
    "#         % Passing Math (The percentage of students that passed math.)\n",
    "#         % Passing Reading (The percentage of students that passed reading.)\n",
    "#         % Overall Passing (The percentage of students that passed math and reading.)\n",
    "#8 Scores by School Size\n",
    "#     Repeat the above breakdown, but this time group schools based on a \n",
    "#     reasonable approximation of school size (Small, Medium, Large).\n",
    "#9 Scores by School Type\n",
    "#     Repeat the above breakdown, but this time group schools based on a \n",
    "#     reasonable approximation of school type (Charter vs. District)."
   ]
  },
  {
   "cell_type": "code",
   "execution_count": 2,
   "id": "363340ec",
   "metadata": {},
   "outputs": [
    {
     "ename": "AttributeError",
     "evalue": "module 'pandas' has no attribute 'csv_read'",
     "output_type": "error",
     "traceback": [
      "\u001b[1;31m---------------------------------------------------------------------------\u001b[0m",
      "\u001b[1;31mAttributeError\u001b[0m                            Traceback (most recent call last)",
      "\u001b[1;32m<ipython-input-2-8273c5aa92cb>\u001b[0m in \u001b[0;36m<module>\u001b[1;34m\u001b[0m\n\u001b[0;32m      6\u001b[0m \u001b[0mcsv1_path\u001b[0m \u001b[1;33m=\u001b[0m \u001b[0mos\u001b[0m\u001b[1;33m.\u001b[0m\u001b[0mpath\u001b[0m\u001b[1;33m.\u001b[0m\u001b[0mjoin\u001b[0m\u001b[1;33m(\u001b[0m\u001b[1;34m\".\"\u001b[0m\u001b[1;33m,\u001b[0m \u001b[1;34m\"Resources\"\u001b[0m\u001b[1;33m,\u001b[0m \u001b[1;34m\"schools_complete.csv\"\u001b[0m\u001b[1;33m)\u001b[0m\u001b[1;33m\u001b[0m\u001b[1;33m\u001b[0m\u001b[0m\n\u001b[0;32m      7\u001b[0m \u001b[0mcsv2_path\u001b[0m \u001b[1;33m=\u001b[0m \u001b[0mos\u001b[0m\u001b[1;33m.\u001b[0m\u001b[0mpath\u001b[0m\u001b[1;33m.\u001b[0m\u001b[0mjoin\u001b[0m\u001b[1;33m(\u001b[0m\u001b[1;34m\".\"\u001b[0m\u001b[1;33m,\u001b[0m \u001b[1;34m\"Resources\"\u001b[0m\u001b[1;33m,\u001b[0m \u001b[1;34m\"students_complete.csv\"\u001b[0m\u001b[1;33m)\u001b[0m\u001b[1;33m\u001b[0m\u001b[1;33m\u001b[0m\u001b[0m\n\u001b[1;32m----> 8\u001b[1;33m \u001b[0mschool_data\u001b[0m \u001b[1;33m=\u001b[0m \u001b[0mpd\u001b[0m\u001b[1;33m.\u001b[0m\u001b[0mcsv_read\u001b[0m\u001b[1;33m(\u001b[0m\u001b[0mcsv1_path\u001b[0m\u001b[1;33m)\u001b[0m\u001b[1;33m\u001b[0m\u001b[1;33m\u001b[0m\u001b[0m\n\u001b[0m\u001b[0;32m      9\u001b[0m \u001b[0mstudent_data\u001b[0m \u001b[1;33m=\u001b[0m \u001b[0mpd\u001b[0m\u001b[1;33m.\u001b[0m\u001b[0mcsv_read\u001b[0m\u001b[1;33m(\u001b[0m\u001b[0mcsv2_path\u001b[0m\u001b[1;33m)\u001b[0m\u001b[1;33m\u001b[0m\u001b[1;33m\u001b[0m\u001b[0m\n\u001b[0;32m     10\u001b[0m \u001b[0mschool_data\u001b[0m\u001b[1;33m\u001b[0m\u001b[1;33m\u001b[0m\u001b[0m\n",
      "\u001b[1;32m~\\anaconda3\\lib\\site-packages\\pandas\\__init__.py\u001b[0m in \u001b[0;36m__getattr__\u001b[1;34m(name)\u001b[0m\n\u001b[0;32m    242\u001b[0m         \u001b[1;32mreturn\u001b[0m \u001b[0m_SparseArray\u001b[0m\u001b[1;33m\u001b[0m\u001b[1;33m\u001b[0m\u001b[0m\n\u001b[0;32m    243\u001b[0m \u001b[1;33m\u001b[0m\u001b[0m\n\u001b[1;32m--> 244\u001b[1;33m     \u001b[1;32mraise\u001b[0m \u001b[0mAttributeError\u001b[0m\u001b[1;33m(\u001b[0m\u001b[1;34mf\"module 'pandas' has no attribute '{name}'\"\u001b[0m\u001b[1;33m)\u001b[0m\u001b[1;33m\u001b[0m\u001b[1;33m\u001b[0m\u001b[0m\n\u001b[0m\u001b[0;32m    245\u001b[0m \u001b[1;33m\u001b[0m\u001b[0m\n\u001b[0;32m    246\u001b[0m \u001b[1;33m\u001b[0m\u001b[0m\n",
      "\u001b[1;31mAttributeError\u001b[0m: module 'pandas' has no attribute 'csv_read'"
     ]
    }
   ],
   "source": [
    "#import pandas module\n",
    "import pandas as pd\n",
    "import os\n",
    "\n",
    "#create path for files\n",
    "csv1_path = os.path.join(\".\", \"Resources\", \"schools_complete.csv\")\n",
    "csv2_path = os.path.join(\".\", \"Resources\", \"students_complete.csv\")\n",
    "school_data = pd.csv_read(csv1_path)\n",
    "student_data = pd.csv_read(csv2_path)\n",
    "school_data"
   ]
  },
  {
   "cell_type": "code",
   "execution_count": null,
   "id": "f007ae9b",
   "metadata": {},
   "outputs": [],
   "source": []
  }
 ],
 "metadata": {
  "kernelspec": {
   "display_name": "Python 3",
   "language": "python",
   "name": "python3"
  },
  "language_info": {
   "codemirror_mode": {
    "name": "ipython",
    "version": 3
   },
   "file_extension": ".py",
   "mimetype": "text/x-python",
   "name": "python",
   "nbconvert_exporter": "python",
   "pygments_lexer": "ipython3",
   "version": "3.8.8"
  }
 },
 "nbformat": 4,
 "nbformat_minor": 5
}
