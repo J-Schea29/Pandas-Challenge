{
 "cells": [
  {
   "cell_type": "code",
   "execution_count": null,
   "id": "46d7d3f6",
   "metadata": {},
   "outputs": [],
   "source": [
    "#School data\n",
    "#Objectives:\n",
    "#1. District Summary\n",
    "#    Total Schools\n",
    "#    Total Students\n",
    "#    Total Budget\n",
    "#    Average Math Score\n",
    "#    Average Reading Score\n",
    "#    % Passing Math (The percentage of students that passed math.)\n",
    "#    % Passing Reading (The percentage of students that passed reading.)\n",
    "#    % Overall Passing (The percentage of students that passed math and reading.)\n",
    "#2. School Summary\n",
    "#    School Name\n",
    "#    School Type\n",
    "#    Total Students\n",
    "#    Total School Budget\n",
    "#    Per Student Budget\n",
    "#    Average Math Score\n",
    "#    Average Reading Score\n",
    "#    % Passing Math (The percentage of students that passed math.)\n",
    "#    % Passing Reading (The percentage of students that passed reading.)\n",
    "#    % Overall Passing (The percentage of students that passed math and reading.)\n",
    "#3 Top 5 Performing Schools (By % Overall Passing)\n",
    "#     School Name\n",
    "#     School Type\n",
    "#     Total Students\n",
    "#     Total School Budget\n",
    "#     Per Student Budget\n",
    "#     Average Math Score\n",
    "#     Average Reading Score\n",
    "#     % Passing Math (The percentage of students that passed math.)\n",
    "#     % Passing Reading (The percentage of students that passed reading.)\n",
    "#     % Overall Passing (The percentage of students that passed math and reading.)\n",
    "#4 Bottom 5 Performing Schools (By % Overall Passing)\n",
    "#     Same metrics\n",
    "#5 Math Scores by Grade**\n",
    "#     Create a table that lists the average Math Score for students of each grade level (9th, 10th, 11th, 12th) at each school.\n",
    "#6 Reading Scores by Grade\n",
    "#     Create a table that lists the average Reading Score for students of each grade level (9th, 10th, 11th, 12th) at each school.\n",
    "#7 Scores by School Spending\n",
    "#     Create a table that breaks down school performances based on average Spending Ranges (Per Student). \n",
    "#     Use 4 reasonable bins to group school spending. Include in the table each of the following:\n",
    "#         Average Math Score\n",
    "#         Average Reading Score\n",
    "#         % Passing Math (The percentage of students that passed math.)\n",
    "#         % Passing Reading (The percentage of students that passed reading.)\n",
    "#         % Overall Passing (The percentage of students that passed math and reading.)\n",
    "#8 Scores by School Size\n",
    "#     Repeat the above breakdown, but this time group schools based on a \n",
    "#     reasonable approximation of school size (Small, Medium, Large).\n",
    "#9 Scores by School Type\n",
    "#     Repeat the above breakdown, but this time group schools based on a \n",
    "#     reasonable approximation of school type (Charter vs. District)."
   ]
  },
  {
   "cell_type": "code",
   "execution_count": 5,
   "id": "d5a00e30",
   "metadata": {},
   "outputs": [],
   "source": [
    "#import pandas module\n",
    "import pandas as pd\n",
    "import os\n",
    "\n",
    "#create path for files\n",
    "csv1_path = os.path.join(\".\", \"Resources\", \"schools_complete.csv\")\n",
    "csv2_path = os.path.join(\".\", \"Resources\", \"students_complete.csv\")\n",
    "school_data = pd.read_csv(csv1_path)\n",
    "student_data = pd.read_csv(csv2_path)"
   ]
  }
 ],
 "metadata": {
  "kernelspec": {
   "display_name": "Python 3",
   "language": "python",
   "name": "python3"
  },
  "language_info": {
   "codemirror_mode": {
    "name": "ipython",
    "version": 3
   },
   "file_extension": ".py",
   "mimetype": "text/x-python",
   "name": "python",
   "nbconvert_exporter": "python",
   "pygments_lexer": "ipython3",
   "version": "3.8.8"
  }
 },
 "nbformat": 4,
 "nbformat_minor": 5
}
